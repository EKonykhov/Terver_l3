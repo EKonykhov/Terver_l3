{
 "cells": [
  {
   "cell_type": "code",
   "execution_count": 20,
   "id": "9280253d",
   "metadata": {},
   "outputs": [
    {
     "name": "stdout",
     "output_type": "stream",
     "text": [
      "65.3\n",
      "30.82\n",
      "950.11\n",
      "1000.12\n"
     ]
    }
   ],
   "source": [
    "from math import factorial\n",
    "import numpy as n\n",
    "\n",
    "#1\n",
    "\n",
    "r = [100, 80, 75, 77, 89, 33, 45, 25, 65, 17, 30, 24, 57, 55, 70, 75, 65, 84, 90, 150]\n",
    "\n",
    "print(n.mean(r))\n",
    "print(round(n.std(r),2))\n",
    "print(round(n.var(r),2))\n",
    "print(round(n.var(r, ddof = 1),2))"
   ]
  },
  {
   "cell_type": "code",
   "execution_count": 8,
   "id": "207d04b3",
   "metadata": {},
   "outputs": [
    {
     "name": "stdout",
     "output_type": "stream",
     "text": [
      "0.015151515151515152\n"
     ]
    }
   ],
   "source": [
    "#2.1\n",
    "\n",
    "def c (x,y):\n",
    "    return factorial(x) / (factorial(y)*factorial(x-y))\n",
    "\n",
    "print((c(5,0) * c(3,2)) / c(8,2) * ((c(5,3) * c(7,1)))/ c(12,4))"
   ]
  },
  {
   "cell_type": "code",
   "execution_count": 11,
   "id": "717861ff",
   "metadata": {},
   "outputs": [
    {
     "name": "stdout",
     "output_type": "stream",
     "text": [
      "0.22727272727272727\n"
     ]
    }
   ],
   "source": [
    "#2.2\n",
    "\n",
    "print((c(5,1) * c(3,1)) / c(8,2) * ((c(5,2) * c(7,2)))/ c(12,4))"
   ]
  },
  {
   "cell_type": "code",
   "execution_count": 13,
   "id": "a260e0f6",
   "metadata": {},
   "outputs": [
    {
     "name": "stdout",
     "output_type": "stream",
     "text": [
      "0.12626262626262627\n"
     ]
    }
   ],
   "source": [
    "#2.3\n",
    "\n",
    "print((c(5,2) * c(3,0)) / c(8,2) * ((c(5,1) * c(7,3)))/ c(12,4))"
   ]
  },
  {
   "cell_type": "code",
   "execution_count": 14,
   "id": "f8b98690",
   "metadata": {},
   "outputs": [
    {
     "name": "stdout",
     "output_type": "stream",
     "text": [
      "0.36868686868686873\n"
     ]
    }
   ],
   "source": [
    "print (((c(5,0) * c(3,2)) / c(8,2) * ((c(5,3) * c(7,1)))/ c(12,4)) + \n",
    "      ((c(5,1) * c(3,1)) / c(8,2) * ((c(5,2) * c(7,2)))/ c(12,4)) + \n",
    "      ((c(5,2) * c(3,0)) / c(8,2) * ((c(5,1) * c(7,3)))/ c(12,4)))"
   ]
  },
  {
   "cell_type": "code",
   "execution_count": 19,
   "id": "00ab2e9d",
   "metadata": {},
   "outputs": [
    {
     "name": "stdout",
     "output_type": "stream",
     "text": [
      "0.391304347826087 0.3478260869565218 0.2608695652173913\n"
     ]
    }
   ],
   "source": [
    "#3\n",
    "\n",
    "x1, x2, x3, y = 0.9, 0.8, 0.6, 1/3\n",
    "\n",
    "f = y * x1 + y * x2 + y * x3\n",
    "\n",
    "print (y * x1 / f, y * x2 / f, y * x3 / f)"
   ]
  },
  {
   "cell_type": "code",
   "execution_count": 20,
   "id": "1e519409",
   "metadata": {},
   "outputs": [
    {
     "name": "stdout",
     "output_type": "stream",
     "text": [
      "0.24242424242424246 0.21212121212121213 0.5454545454545455\n"
     ]
    }
   ],
   "source": [
    "#4\n",
    "\n",
    "x4, x5, x6, y1, y2 = 0.8, 0.7, 0.9, 1/4, 1/2\n",
    "\n",
    "f1 = y1 * x4 + y1 * x5 + y2 * x6\n",
    "\n",
    "print (y1 * x4 / f1, y1 * x5 / f1, y2 * x6 / f1)"
   ]
  },
  {
   "cell_type": "code",
   "execution_count": 8,
   "id": "16964ed5",
   "metadata": {},
   "outputs": [
    {
     "name": "stdout",
     "output_type": "stream",
     "text": [
      "0.55\n",
      "0.08\n",
      "0.45999999999999996\n",
      "0.45499999999999996\n"
     ]
    }
   ],
   "source": [
    "a, b ,c = 0.1, 0.2, 0.25\n",
    "\n",
    "#5.1 \n",
    "\n",
    "print(a + b + c)\n",
    "\n",
    "#5.2\n",
    "\n",
    "print((1 - a) * b * c + a * (1 - b) * c + a * b * (1 - c))\n",
    "\n",
    "#5.3\n",
    "\n",
    "print(1 -(1 - a) * (1 - b) * (1 - c))\n",
    "\n",
    "#5.4 Не понял и списал =(\n",
    "\n",
    "print(1 - (1 - a) * (1 - b) * (1 - c) - (a * b * c))\n"
   ]
  }
 ],
 "metadata": {
  "kernelspec": {
   "display_name": "Python 3",
   "language": "python",
   "name": "python3"
  },
  "language_info": {
   "codemirror_mode": {
    "name": "ipython",
    "version": 3
   },
   "file_extension": ".py",
   "mimetype": "text/x-python",
   "name": "python",
   "nbconvert_exporter": "python",
   "pygments_lexer": "ipython3",
   "version": "3.7.3"
  }
 },
 "nbformat": 4,
 "nbformat_minor": 5
}
